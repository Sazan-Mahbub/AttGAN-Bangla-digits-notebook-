{
 "cells": [
  {
   "cell_type": "code",
   "execution_count": 6,
   "metadata": {
    "colab": {
     "autoexec": {
      "startup": false,
      "wait_interval": 0
     }
    },
    "colab_type": "code",
    "collapsed": true,
    "id": "nK7yKhcC8v5x"
   },
   "outputs": [],
   "source": [
    "import PIL\n",
    "from random import randint"
   ]
  },
  {
   "cell_type": "code",
   "execution_count": 0,
   "metadata": {
    "colab": {
     "autoexec": {
      "startup": false,
      "wait_interval": 0
     }
    },
    "colab_type": "code",
    "collapsed": true,
    "id": "FCLyEMql8v52"
   },
   "outputs": [],
   "source": [
    "import numpy as np\n",
    "import cv2\n",
    "#from contour_custom_library import * #customised dicom-contour.contour\n",
    "from PIL import Image\n",
    "from scipy.misc import toimage\n",
    "%matplotlib inline\n",
    "from matplotlib import pyplot as plt\n",
    "from glob import glob\n",
    "\n"
   ]
  },
  {
   "cell_type": "code",
   "execution_count": 0,
   "metadata": {
    "colab": {
     "autoexec": {
      "startup": false,
      "wait_interval": 0
     }
    },
    "colab_type": "code",
    "id": "tYqdPUU98v55",
    "outputId": "5a588d3b-c4e0-4824-e567-74d8d3b32525"
   },
   "outputs": [
    {
     "name": "stdout",
     "output_type": "stream",
     "text": [
      "(180, 180)\n"
     ]
    },
    {
     "data": {
      "text/plain": [
       "<matplotlib.image.AxesImage at 0x2205388d518>"
      ]
     },
     "execution_count": 173,
     "metadata": {
      "tags": []
     },
     "output_type": "execute_result"
    },
    {
     "data": {
      "image/png": "[encoded data removed]",
      "text/plain": [
       "<matplotlib.figure.Figure at 0x220537b0128>"
      ]
     },
     "metadata": {
      "tags": []
     },
     "output_type": "display_data"
    }
   ],
   "source": [
    "img = cv2.imread(r'D:\\Machine Learning\\Bangla Digit\\train\\0\\a04569.png',0)\n",
    "imgMain = cv2.imread(r'D:\\Machine Learning\\Bangla Digit\\train\\0\\a04569.png')\n",
    "#img.show()\n",
    "np.array(img).shape\n",
    "ret,thresh1 = cv2.threshold(np.array(img),127,255,cv2.THRESH_BINARY)\n",
    "print(thresh1.shape)\n",
    "(thresh1.T[0]).shape\n",
    "plt.imshow(thresh1)"
   ]
  },
  {
   "cell_type": "code",
   "execution_count": 0,
   "metadata": {
    "colab": {
     "autoexec": {
      "startup": false,
      "wait_interval": 0
     }
    },
    "colab_type": "code",
    "id": "1uj9hUO38v6A",
    "outputId": "2e80c68d-dda6-4236-bfec-970ef8c34664"
   },
   "outputs": [
    {
     "name": "stdout",
     "output_type": "stream",
     "text": [
      "772\n",
      "31628\n"
     ]
    }
   ],
   "source": [
    "#print(len(thresh1[thresh1!=0]))\n",
    "print(len(thresh1[thresh1==0]))\n",
    "#print(len(thresh1[thresh1!=255]))\n",
    "print(len(thresh1[thresh1==255]))"
   ]
  },
  {
   "cell_type": "code",
   "execution_count": 0,
   "metadata": {
    "colab": {
     "autoexec": {
      "startup": false,
      "wait_interval": 0
     }
    },
    "colab_type": "code",
    "collapsed": true,
    "id": "dkYMYqlx8v6L"
   },
   "outputs": [],
   "source": [
    "val = 0\n",
    "thresh1[thresh1==0] = val"
   ]
  },
  {
   "cell_type": "code",
   "execution_count": 0,
   "metadata": {
    "colab": {
     "autoexec": {
      "startup": false,
      "wait_interval": 0
     }
    },
    "colab_type": "code",
    "id": "NqIescOM8v6P",
    "outputId": "05f3d5ba-ad8d-47cf-aa46-0dd12e774bf0"
   },
   "outputs": [
    {
     "data": {
      "text/plain": [
       "<matplotlib.image.AxesImage at 0x220536b91d0>"
      ]
     },
     "execution_count": 89,
     "metadata": {
      "tags": []
     },
     "output_type": "execute_result"
    },
    {
     "data": {
      "image/png": "[encoded data removed]",
      "text/plain": [
       "<matplotlib.figure.Figure at 0x22053611668>"
      ]
     },
     "metadata": {
      "tags": []
     },
     "output_type": "display_data"
    }
   ],
   "source": [
    "plt.imshow(thresh1)"
   ]
  },
  {
   "cell_type": "code",
   "execution_count": 0,
   "metadata": {
    "colab": {
     "autoexec": {
      "startup": false,
      "wait_interval": 0
     }
    },
    "colab_type": "code",
    "collapsed": true,
    "id": "YeSxWoEA8v6T"
   },
   "outputs": [],
   "source": [
    "x = thresh1\n",
    "x[x==val] = 150"
   ]
  },
  {
   "cell_type": "code",
   "execution_count": 0,
   "metadata": {
    "colab": {
     "autoexec": {
      "startup": false,
      "wait_interval": 0
     }
    },
    "colab_type": "code",
    "collapsed": true,
    "id": "SbDIRj3L8v6h"
   },
   "outputs": [],
   "source": [
    "imgTemp = np.stack((thresh1,thresh1,x))"
   ]
  },
  {
   "cell_type": "code",
   "execution_count": 0,
   "metadata": {
    "colab": {
     "autoexec": {
      "startup": false,
      "wait_interval": 0
     }
    },
    "colab_type": "code",
    "id": "KTF3ERWP8v6k",
    "outputId": "0c6c4f4d-cd48-40f7-e98c-e2d8751670dd"
   },
   "outputs": [
    {
     "data": {
      "text/plain": [
       "(180, 180, 3)"
      ]
     },
     "execution_count": 92,
     "metadata": {
      "tags": []
     },
     "output_type": "execute_result"
    }
   ],
   "source": [
    "imgTemp.T.shape"
   ]
  },
  {
   "cell_type": "code",
   "execution_count": 0,
   "metadata": {
    "colab": {
     "autoexec": {
      "startup": false,
      "wait_interval": 0
     }
    },
    "colab_type": "code",
    "collapsed": true,
    "id": "ruHmGdxz8v6p"
   },
   "outputs": [],
   "source": [
    "#cv2.imshow('imgTemp', imgTemp.T) hang kore pc\n",
    "img = Image.fromarray(imgTemp.T, 'RGB')"
   ]
  },
  {
   "cell_type": "code",
   "execution_count": 0,
   "metadata": {
    "colab": {
     "autoexec": {
      "startup": false,
      "wait_interval": 0
     }
    },
    "colab_type": "code",
    "id": "E7y59r4W8v6u",
    "outputId": "1de9f803-f605-4e09-e61c-492b328a462f"
   },
   "outputs": [
    {
     "data": {
      "text/plain": [
       "True"
      ]
     },
     "execution_count": 60,
     "metadata": {
      "tags": []
     },
     "output_type": "execute_result"
    }
   ],
   "source": [
    "cv2.imwrite('01.png',(imgTemp.T))"
   ]
  },
  {
   "cell_type": "code",
   "execution_count": 0,
   "metadata": {
    "colab": {
     "autoexec": {
      "startup": false,
      "wait_interval": 0
     }
    },
    "colab_type": "code",
    "collapsed": true,
    "id": "BHj5TWCw8v61"
   },
   "outputs": [],
   "source": [
    "img.show()"
   ]
  },
  {
   "cell_type": "code",
   "execution_count": 0,
   "metadata": {
    "colab": {
     "autoexec": {
      "startup": false,
      "wait_interval": 0
     }
    },
    "colab_type": "code",
    "id": "dF_V2LCB8v66",
    "outputId": "82b8f416-5d88-49ea-986a-d1253b9d3295"
   },
   "outputs": [
    {
     "name": "stdout",
     "output_type": "stream",
     "text": [
      "img: a00107\n"
     ]
    }
   ],
   "source": [
    "import numpy as np\n",
    "from PIL import Image\n",
    "a = input(\"img: \")\n",
    "img = Image.open(r'D:\\Machine Learning\\Bangla Digit\\train\\7\\\\'+a+'.png')\n",
    "\n",
    "def colorize_digits(img_src, color, threshold=185):\n",
    "    img = Image.open(img_src)\n",
    "    ret,im = cv2.threshold(np.array(img),threshold,255,cv2.THRESH_BINARY)\n",
    "    data = np.array(im)\n",
    "    if(len(data[data==0])>len(data[data==255])): ## assuming, total pixels covering the letters is less than not covering. \n",
    "        ret,im = cv2.threshold(np.array(img),threshold,255,cv2.THRESH_BINARY_INV)\n",
    "        data = np.array(im)\n",
    "        \n",
    "    #print(data.shape)\n",
    "    if(len(data.shape)==2):\n",
    "        #print(data.shape)\n",
    "        data = np.stack((data,)*3, axis=-1)\n",
    "    #print(data.shape)\n",
    "        \n",
    "    r1, g1, b1 = 0, 0, 0 # Original value\n",
    "    #if(len(data[data==0])>len(data[data==255])):\n",
    "    #    r1, g1, b1 = 255, 255, 255\n",
    "    r2, g2, b2 = color # Value that we want to replace it with\n",
    "\n",
    "    red, green, blue = data[:,:,0], data[:,:,1], data[:,:,2]\n",
    "    #mask = (red == r1) & (green == g1) & (blue == b1)\n",
    "    mask = (red == r1) | (green == g1) | (blue == b1)\n",
    "    #print(mask[0])\n",
    "    data[:,:,:3][mask] = [r2, g2, b2]\n",
    "\n",
    "    im = Image.fromarray(data)\n",
    "    return im\n",
    "    #im.save('fig1_modified.png')\n",
    "    #im.show()\n",
    "colorize_digits((r'D:\\Machine Learning\\Bangla Digit\\train\\7\\\\'+a+'.png'), [255,0,0]).show()"
   ]
  },
  {
   "cell_type": "code",
   "execution_count": 0,
   "metadata": {
    "colab": {
     "autoexec": {
      "startup": false,
      "wait_interval": 0
     }
    },
    "colab_type": "code",
    "collapsed": true,
    "id": "wNcIUwbJ8v69"
   },
   "outputs": [],
   "source": [
    "colors_dict = {}"
   ]
  },
  {
   "cell_type": "code",
   "execution_count": 0,
   "metadata": {
    "colab": {
     "autoexec": {
      "startup": false,
      "wait_interval": 0
     }
    },
    "colab_type": "code",
    "collapsed": true,
    "id": "Std4cBxq8v7A"
   },
   "outputs": [],
   "source": [
    "colors_dict['red'] = [255,0,0]\n",
    "colors_dict['lime'] = [0,255,0]\n",
    "colors_dict['blue'] = [0,0,255]\n",
    "colors_dict['maroon'] = [128,0,0]\n",
    "colors_dict['yellow'] = [255,255,0]\n",
    "colors_dict['black'] = [0,0,0]\n",
    "colors_dict['magenta'] = [255,0,255]\n",
    "colors_dict['deep pink'] = [255,20,147]\n",
    "colors_dict['brown'] = [165,42,42]\n",
    "colors_dict['yellow green'] = [154,205,50]"
   ]
  },
  {
   "cell_type": "code",
   "execution_count": 0,
   "metadata": {
    "colab": {
     "autoexec": {
      "startup": false,
      "wait_interval": 0
     }
    },
    "colab_type": "code",
    "collapsed": true,
    "id": "oWsxqM368v7E"
   },
   "outputs": [],
   "source": [
    "for i in colors_dict:\n",
    "    print(colors_dict[i])\n",
    "    colorize_digits(img, colors_dict[i]).show()"
   ]
  },
  {
   "cell_type": "code",
   "execution_count": 0,
   "metadata": {
    "colab": {
     "autoexec": {
      "startup": false,
      "wait_interval": 0
     }
    },
    "colab_type": "code",
    "collapsed": true,
    "id": "rn43kB708v7J"
   },
   "outputs": [],
   "source": [
    "base_dir = r'D:\\Machine Learning\\Bangla Digit\\generated_test_1'"
   ]
  },
  {
   "cell_type": "code",
   "execution_count": 0,
   "metadata": {
    "colab": {
     "autoexec": {
      "startup": false,
      "wait_interval": 0
     }
    },
    "colab_type": "code",
    "collapsed": true,
    "id": "8O8R4AMy8v7L"
   },
   "outputs": [],
   "source": [
    "j=0\n",
    "x = randint(0, 9)\n",
    "y = randint(0, 9)\n",
    "z = randint(0, 9)\n",
    "for i in colors_dict:\n",
    "    print(colors_dict[i])\n",
    "    if(j==x or j==y or j==z):\n",
    "        j+=1\n",
    "        continue\n",
    "    save_dir = base_dir+'\\\\'+ i +'\\\\'+str(j)+'.png'\n",
    "    colorize_digits(img, colors_dict[i]).save(save_dir)\n",
    "    j+=1"
   ]
  },
  {
   "cell_type": "code",
   "execution_count": 0,
   "metadata": {
    "colab": {
     "autoexec": {
      "startup": false,
      "wait_interval": 0
     }
    },
    "colab_type": "code",
    "collapsed": true,
    "id": "VKWJtuqR8v7O"
   },
   "outputs": [],
   "source": [
    "from glob import glob\n",
    "base_dir = r'D:\\Machine Learning\\Bangla Digit\\train'\n",
    "save_dir = r'D:\\Machine Learning\\Bangla Digit\\generated_test_1'\n",
    "\n",
    "for i in range(10): # 0 to 9\n",
    "    generate_image_1(base_dir, i)\n",
    "    \n",
    "def generate_image_1(base_dir, image_number):\n",
    "    i = image_number\n",
    "    dir_2 = base_dir + '\\\\' + str(i) + '\\*'\n",
    "    paths = glob(dir_2)\n",
    "    #print(dir_2)\n",
    "    #print((paths))\n",
    "    x = randint(0, 9)\n",
    "    y = randint(0, 9)\n",
    "    z = randint(0, 9)\n",
    "    for img_path in paths:\n",
    "        j=0\n",
    "        for color in colors_dict:\n",
    "            #print(colors_dict[color])\n",
    "            if(j==x or j==y or j==z):\n",
    "                j+=1\n",
    "                continue\n",
    "            img_name = img_path.split('\\\\')[-1]\n",
    "            save_dir_2 = save_dir+'\\\\'+ str(i) + '\\\\' + color +'\\\\'+img_name\n",
    "            #print(img_path)\n",
    "            colorize_digits(img_path, colors_dict[color]).save(save_dir_2)\n",
    "            j+=1\n",
    "\n"
   ]
  },
  {
   "cell_type": "code",
   "execution_count": 24,
   "metadata": {
    "colab": {
     "autoexec": {
      "startup": false,
      "wait_interval": 0
     }
    },
    "colab_type": "code",
    "collapsed": true,
    "id": "Z1YgZ_Yt8v7R"
   },
   "outputs": [],
   "source": [
    "def random_label_gen(digit_str, color):\n",
    "    x = randint(0, 3)\n",
    "    label = color + ' ' + digit_str\n",
    "    if x==0:\n",
    "        label = 'digit ' + digit_str + ' of color ' + color\n",
    "    elif x==1:\n",
    "        label = digit_str + ' of color ' + color\n",
    "    elif x==2:\n",
    "        label = digit_str + ' ' + color\n",
    "    elif x==3:\n",
    "        label = color + ' ' + digit_str\n",
    "    return label"
   ]
  },
  {
   "cell_type": "code",
   "execution_count": 26,
   "metadata": {},
   "outputs": [],
   "source": [
    "from glob import glob\n",
    "dir_ = r'D:\\Machine Learning\\Bangla Digit\\generated_test_1\\*\\*\\*'\n",
    "paths = glob(dir_)\n",
    "labels = []\n",
    "for path in paths:\n",
    "    digit_str = path.split('\\\\')[-3]\n",
    "    color = path.split('\\\\')[-2]\n",
    "    labels.append(random_label_gen(digit_str, color))\n"
   ]
  },
  {
   "cell_type": "code",
   "execution_count": 27,
   "metadata": {},
   "outputs": [
    {
     "data": {
      "text/plain": [
       "438421"
      ]
     },
     "execution_count": 27,
     "metadata": {},
     "output_type": "execute_result"
    }
   ],
   "source": [
    "len(labels)"
   ]
  },
  {
   "cell_type": "code",
   "execution_count": null,
   "metadata": {
    "collapsed": true
   },
   "outputs": [],
   "source": []
  }
 ],
 "metadata": {
  "colab": {
   "collapsed_sections": [],
   "default_view": {},
   "name": "recoloring check1.ipynb",
   "provenance": [],
   "version": "0.3.2",
   "views": {}
  },
  "kernelspec": {
   "display_name": "Python 3",
   "language": "python",
   "name": "python3"
  },
  "language_info": {
   "codemirror_mode": {
    "name": "ipython",
    "version": 3
   },
   "file_extension": ".py",
   "mimetype": "text/x-python",
   "name": "python",
   "nbconvert_exporter": "python",
   "pygments_lexer": "ipython3",
   "version": "3.6.3"
  }
 },
 "nbformat": 4,
 "nbformat_minor": 1
}
